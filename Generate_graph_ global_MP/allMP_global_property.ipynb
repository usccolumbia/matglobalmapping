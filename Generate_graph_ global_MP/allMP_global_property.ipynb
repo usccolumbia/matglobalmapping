{
 "cells": [
  {
   "cell_type": "code",
   "execution_count": null,
   "metadata": {},
   "outputs": [],
   "source": [
    "import numpy as np\n",
    "import matplotlib.pyplot as plt\n",
    "from sklearn import manifold\n",
    "import pandas as pd\n",
    "import os\n",
    "from os import listdir\n",
    "from os.path import isfile, join\n",
    "import matplotlib.pyplot as plt\n",
    "from scipy.stats import gaussian_kde\n",
    "import matplotlib as mpl"
   ]
  },
  {
   "cell_type": "code",
   "execution_count": null,
   "metadata": {},
   "outputs": [],
   "source": [
    "tsnedir = \"../dataset/whole_mp_xy\"\n",
    "\n",
    "onlyfiles = [join(tsnedir, f) for f in listdir(tsnedir) if isfile(join(tsnedir, f))]\n",
    "allmp_props = pd.read_csv(\"../dataset/all_mp_all_props.csv\")\n",
    "allmp_id = allmp_props.mp_id.to_frame()"
   ]
  },
  {
   "cell_type": "code",
   "execution_count": null,
   "metadata": {},
   "outputs": [],
   "source": [
    "features={}\n",
    "for file in onlyfiles:\n",
    "    decriptor = file.split('/')[-1].split('_')[1]\n",
    "    print(decriptor)\n",
    "    feat_xy   = pd.read_csv(file,index_col=None)\n",
    "    prop_data = pd.merge(right=feat_xy, \n",
    "                left=allmp_props, \n",
    "                how='right', \n",
    "                right_on='mp_id', \n",
    "                left_on='mp_id')\n",
    "\n",
    "    features[decriptor]=prop_data\n",
    "    \n"
   ]
  },
  {
   "cell_type": "code",
   "execution_count": null,
   "metadata": {},
   "outputs": [],
   "source": [
    "labelist = [\n",
    "    'final_energy_per_atom',\n",
    "            'final_energy', \n",
    "            'e_above_hull', \n",
    "            'spacegroup', \n",
    "            'Piezoelectric_Modulus', \n",
    "            'mass', \n",
    "            'Mean_Mass_Per_Atom', \n",
    "            'volume', \n",
    "            'density', \n",
    "            'nsites', \n",
    "            'band_gap', \n",
    "            'K_VRH', \n",
    "            'G_VRH', \n",
    "            'poisson_ratio', \n",
    "            'vol_per_atom', \n",
    "            'atomic_density', \n",
    "            'Interatomic_Spacing', \n",
    "            'young', \n",
    "            'shear', \n",
    "            'bulk', \n",
    "            'pugh', \n",
    "            'Lame', \n",
    "            'Pressure_Wave', \n",
    "            'Vickers', \n",
    "            'T_Sound_V', \n",
    "            'L_Sound_V', \n",
    "            'M_Sound_V', \n",
    "            'Gruneisen', \n",
    "            'debye', \n",
    "            'Thermal_Conductivity', \n",
    "            'Melting_Point', \n",
    "            'cystal_system']\n",
    "\n",
    "for descriptor in features:\n",
    "    #fig5 in paper used topo descriptor\n",
    "    #descriptor = \"topo\"\n",
    "\n",
    "    for label in labelist:\n",
    "        plt.rcParams.update({'font.size': 26})\n",
    "        fig = plt.figure(figsize=(23,20),dpi=100)\n",
    "        ax1 = fig.add_subplot(111)\n",
    "        x=features[descriptor].loc[:]['x']\n",
    "        y=features[descriptor].loc[:]['y']\n",
    "        plt.scatter(x,y,marker='o',color='white',s=20,zorder=1, edgecolor=\"grey\")\n",
    "\n",
    "        \n",
    "    \n",
    "        z=features[descriptor].loc[:][label]\n",
    "        \n",
    "        \n",
    "        z_min, z_max = z.min(), z.max()\n",
    "        #print(z_min, z_max)\n",
    "        c = plt.scatter(x, y, c=z, s=10,zorder=3,cmap=mpl.colormaps['tab20b'], vmin=z_min, vmax=z_max)\n",
    "        \n",
    "        \n",
    "        # set the limits of the plot to the limits of the data\n",
    "        fig.colorbar(c, ax=ax1, pad=0)\n",
    "        \n",
    "        plt.subplots_adjust(left=None, bottom=0.15, right=None, top=None,\n",
    "                        wspace=0.1, hspace=0.15)\n",
    "\n",
    "        ax1.get_xaxis().set_visible(False)\n",
    "        ax1.get_yaxis().set_visible(False)\n",
    "        #plt.legend(labels = ['alldata'], loc='lower left')\n",
    "        #plt.title(label)\n",
    "        \n",
    "        plt.xticks()\n",
    "        plt.show()\n",
    "        break\n",
    "    break    \n",
    "    #   You can pick the property and descriptor instead of running the entire loop"
   ]
  }
 ],
 "metadata": {
  "kernelspec": {
   "display_name": "Python 3.8.16 ('globalmapping')",
   "language": "python",
   "name": "python3"
  },
  "language_info": {
   "codemirror_mode": {
    "name": "ipython",
    "version": 3
   },
   "file_extension": ".py",
   "mimetype": "text/x-python",
   "name": "python",
   "nbconvert_exporter": "python",
   "pygments_lexer": "ipython3",
   "version": "3.8.16"
  },
  "orig_nbformat": 4,
  "vscode": {
   "interpreter": {
    "hash": "a0d38d26bc1c3b5b5e4739b5d4dbcdb89767fe87680738cff708cb61def59297"
   }
  }
 },
 "nbformat": 4,
 "nbformat_minor": 2
}
