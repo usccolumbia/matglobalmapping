{
 "cells": [
  {
   "cell_type": "code",
   "execution_count": 2,
   "metadata": {},
   "outputs": [],
   "source": [
    "import numpy as np\n",
    "import matplotlib.pyplot as plt\n",
    "from sklearn import manifold\n",
    "import pandas as pd\n",
    "import os\n",
    "import matplotlib.pyplot as plt\n",
    "from scipy.stats import gaussian_kde\n",
    "import matplotlib as mpl"
   ]
  },
  {
   "cell_type": "code",
   "execution_count": 3,
   "metadata": {},
   "outputs": [
    {
     "name": "stderr",
     "output_type": "stream",
     "text": [
      "/tmp/ipykernel_856505/1266960198.py:1: DtypeWarning: Columns (6) have mixed types. Specify dtype option on import or set low_memory=False.\n",
      "  allmp = pd.read_csv(\"./all_mp_all_props.csv\")\n"
     ]
    }
   ],
   "source": [
    "allmp = pd.read_csv(\"./all_mp_all_props.csv\")\n"
   ]
  },
  {
   "cell_type": "code",
   "execution_count": 4,
   "metadata": {},
   "outputs": [],
   "source": [
    "pizeo = allmp[~allmp['Piezoelectric_Modulus'].isna()]"
   ]
  },
  {
   "cell_type": "code",
   "execution_count": 11,
   "metadata": {},
   "outputs": [],
   "source": [
    "allmp_binay = pd.read_csv(\"./all_mp_binary_class.csv\",index_col=False)"
   ]
  },
  {
   "cell_type": "code",
   "execution_count": 6,
   "metadata": {},
   "outputs": [],
   "source": [
    "pizeo=pizeo[[\"mp_id\",\"Piezoelectric_Modulus\"]]"
   ]
  },
  {
   "cell_type": "code",
   "execution_count": 12,
   "metadata": {},
   "outputs": [],
   "source": [
    "pizeo_wf= pd.merge(right=pizeo, \n",
    "                left=allmp_binay, \n",
    "                how='right', \n",
    "                right_on='mp_id', \n",
    "                left_on='mp_id')"
   ]
  },
  {
   "cell_type": "code",
   "execution_count": 14,
   "metadata": {},
   "outputs": [],
   "source": [
    "pizeo_wf=pizeo_wf[[\"mp_id\",\"formula\",\"Piezoelectric_Modulus\"]]"
   ]
  },
  {
   "cell_type": "code",
   "execution_count": 16,
   "metadata": {},
   "outputs": [],
   "source": [
    "pizeo_wf.to_csv(\"./piezoelectric_mp_ids.csv\",index=False)"
   ]
  },
  {
   "cell_type": "code",
   "execution_count": 3,
   "metadata": {},
   "outputs": [],
   "source": [
    "abc3 = pd.read_csv(\"./abc3_mp_ids.csv\")"
   ]
  },
  {
   "cell_type": "code",
   "execution_count": 4,
   "metadata": {},
   "outputs": [
    {
     "data": {
      "text/html": [
       "<div>\n",
       "<style scoped>\n",
       "    .dataframe tbody tr th:only-of-type {\n",
       "        vertical-align: middle;\n",
       "    }\n",
       "\n",
       "    .dataframe tbody tr th {\n",
       "        vertical-align: top;\n",
       "    }\n",
       "\n",
       "    .dataframe thead th {\n",
       "        text-align: right;\n",
       "    }\n",
       "</style>\n",
       "<table border=\"1\" class=\"dataframe\">\n",
       "  <thead>\n",
       "    <tr style=\"text-align: right;\">\n",
       "      <th></th>\n",
       "      <th>mp_id</th>\n",
       "      <th>formula</th>\n",
       "      <th>XYZ</th>\n",
       "    </tr>\n",
       "  </thead>\n",
       "  <tbody>\n",
       "    <tr>\n",
       "      <th>0</th>\n",
       "      <td>mp-1178563</td>\n",
       "      <td>AgAsO3</td>\n",
       "      <td>ABC3</td>\n",
       "    </tr>\n",
       "    <tr>\n",
       "      <th>1</th>\n",
       "      <td>mp-1183052</td>\n",
       "      <td>AcBO3</td>\n",
       "      <td>ABC3</td>\n",
       "    </tr>\n",
       "    <tr>\n",
       "      <th>2</th>\n",
       "      <td>mp-1183053</td>\n",
       "      <td>AcGaO3</td>\n",
       "      <td>ABC3</td>\n",
       "    </tr>\n",
       "    <tr>\n",
       "      <th>3</th>\n",
       "      <td>mp-1183115</td>\n",
       "      <td>AcAlO3</td>\n",
       "      <td>ABC3</td>\n",
       "    </tr>\n",
       "    <tr>\n",
       "      <th>4</th>\n",
       "      <td>mp-1183139</td>\n",
       "      <td>AcNiO3</td>\n",
       "      <td>ABC3</td>\n",
       "    </tr>\n",
       "    <tr>\n",
       "      <th>...</th>\n",
       "      <td>...</td>\n",
       "      <td>...</td>\n",
       "      <td>...</td>\n",
       "    </tr>\n",
       "    <tr>\n",
       "      <th>4353</th>\n",
       "      <td>mp-1217533</td>\n",
       "      <td>TbUTe3</td>\n",
       "      <td>ABC3</td>\n",
       "    </tr>\n",
       "    <tr>\n",
       "      <th>4354</th>\n",
       "      <td>mp-17324</td>\n",
       "      <td>ZrSnS3</td>\n",
       "      <td>ABC3</td>\n",
       "    </tr>\n",
       "    <tr>\n",
       "      <th>4355</th>\n",
       "      <td>mp-5193</td>\n",
       "      <td>SrZrS3</td>\n",
       "      <td>ABC3</td>\n",
       "    </tr>\n",
       "    <tr>\n",
       "      <th>4356</th>\n",
       "      <td>mp-541570</td>\n",
       "      <td>SrZrSe3</td>\n",
       "      <td>ABC3</td>\n",
       "    </tr>\n",
       "    <tr>\n",
       "      <th>4357</th>\n",
       "      <td>mp-7276</td>\n",
       "      <td>ScUS3</td>\n",
       "      <td>ABC3</td>\n",
       "    </tr>\n",
       "  </tbody>\n",
       "</table>\n",
       "<p>4358 rows × 3 columns</p>\n",
       "</div>"
      ],
      "text/plain": [
       "           mp_id  formula   XYZ\n",
       "0     mp-1178563   AgAsO3  ABC3\n",
       "1     mp-1183052    AcBO3  ABC3\n",
       "2     mp-1183053   AcGaO3  ABC3\n",
       "3     mp-1183115   AcAlO3  ABC3\n",
       "4     mp-1183139   AcNiO3  ABC3\n",
       "...          ...      ...   ...\n",
       "4353  mp-1217533   TbUTe3  ABC3\n",
       "4354    mp-17324   ZrSnS3  ABC3\n",
       "4355     mp-5193   SrZrS3  ABC3\n",
       "4356   mp-541570  SrZrSe3  ABC3\n",
       "4357     mp-7276    ScUS3  ABC3\n",
       "\n",
       "[4358 rows x 3 columns]"
      ]
     },
     "execution_count": 4,
     "metadata": {},
     "output_type": "execute_result"
    }
   ],
   "source": [
    "abc3"
   ]
  },
  {
   "cell_type": "code",
   "execution_count": 5,
   "metadata": {},
   "outputs": [],
   "source": [
    "import re\n",
    "def splitformula (input):\n",
    "    return re.findall('[A-Z][^A-Z]*', input)\n",
    "\n",
    "abc3['ele1']=abc3['formula'].apply(lambda x : splitformula(x)[0])\n",
    "abc3['ele2']=abc3['formula'].apply(lambda x : splitformula(x)[1])\n",
    "abc3['ele3']=abc3['formula'].apply(lambda x : splitformula(x)[2])"
   ]
  },
  {
   "cell_type": "code",
   "execution_count": 8,
   "metadata": {},
   "outputs": [
    {
     "data": {
      "text/html": [
       "<div>\n",
       "<style scoped>\n",
       "    .dataframe tbody tr th:only-of-type {\n",
       "        vertical-align: middle;\n",
       "    }\n",
       "\n",
       "    .dataframe tbody tr th {\n",
       "        vertical-align: top;\n",
       "    }\n",
       "\n",
       "    .dataframe thead th {\n",
       "        text-align: right;\n",
       "    }\n",
       "</style>\n",
       "<table border=\"1\" class=\"dataframe\">\n",
       "  <thead>\n",
       "    <tr style=\"text-align: right;\">\n",
       "      <th></th>\n",
       "      <th>mp_id</th>\n",
       "      <th>formula</th>\n",
       "      <th>XYZ</th>\n",
       "      <th>ele1</th>\n",
       "      <th>ele2</th>\n",
       "      <th>ele3</th>\n",
       "    </tr>\n",
       "  </thead>\n",
       "  <tbody>\n",
       "    <tr>\n",
       "      <th>0</th>\n",
       "      <td>mp-1178563</td>\n",
       "      <td>AgAsO3</td>\n",
       "      <td>ABC3</td>\n",
       "      <td>Ag</td>\n",
       "      <td>As</td>\n",
       "      <td>O3</td>\n",
       "    </tr>\n",
       "    <tr>\n",
       "      <th>1</th>\n",
       "      <td>mp-1183052</td>\n",
       "      <td>AcBO3</td>\n",
       "      <td>ABC3</td>\n",
       "      <td>Ac</td>\n",
       "      <td>B</td>\n",
       "      <td>O3</td>\n",
       "    </tr>\n",
       "    <tr>\n",
       "      <th>2</th>\n",
       "      <td>mp-1183053</td>\n",
       "      <td>AcGaO3</td>\n",
       "      <td>ABC3</td>\n",
       "      <td>Ac</td>\n",
       "      <td>Ga</td>\n",
       "      <td>O3</td>\n",
       "    </tr>\n",
       "    <tr>\n",
       "      <th>3</th>\n",
       "      <td>mp-1183115</td>\n",
       "      <td>AcAlO3</td>\n",
       "      <td>ABC3</td>\n",
       "      <td>Ac</td>\n",
       "      <td>Al</td>\n",
       "      <td>O3</td>\n",
       "    </tr>\n",
       "    <tr>\n",
       "      <th>4</th>\n",
       "      <td>mp-1183139</td>\n",
       "      <td>AcNiO3</td>\n",
       "      <td>ABC3</td>\n",
       "      <td>Ac</td>\n",
       "      <td>Ni</td>\n",
       "      <td>O3</td>\n",
       "    </tr>\n",
       "    <tr>\n",
       "      <th>...</th>\n",
       "      <td>...</td>\n",
       "      <td>...</td>\n",
       "      <td>...</td>\n",
       "      <td>...</td>\n",
       "      <td>...</td>\n",
       "      <td>...</td>\n",
       "    </tr>\n",
       "    <tr>\n",
       "      <th>4353</th>\n",
       "      <td>mp-1217533</td>\n",
       "      <td>TbUTe3</td>\n",
       "      <td>ABC3</td>\n",
       "      <td>Tb</td>\n",
       "      <td>U</td>\n",
       "      <td>Te3</td>\n",
       "    </tr>\n",
       "    <tr>\n",
       "      <th>4354</th>\n",
       "      <td>mp-17324</td>\n",
       "      <td>ZrSnS3</td>\n",
       "      <td>ABC3</td>\n",
       "      <td>Zr</td>\n",
       "      <td>Sn</td>\n",
       "      <td>S3</td>\n",
       "    </tr>\n",
       "    <tr>\n",
       "      <th>4355</th>\n",
       "      <td>mp-5193</td>\n",
       "      <td>SrZrS3</td>\n",
       "      <td>ABC3</td>\n",
       "      <td>Sr</td>\n",
       "      <td>Zr</td>\n",
       "      <td>S3</td>\n",
       "    </tr>\n",
       "    <tr>\n",
       "      <th>4356</th>\n",
       "      <td>mp-541570</td>\n",
       "      <td>SrZrSe3</td>\n",
       "      <td>ABC3</td>\n",
       "      <td>Sr</td>\n",
       "      <td>Zr</td>\n",
       "      <td>Se3</td>\n",
       "    </tr>\n",
       "    <tr>\n",
       "      <th>4357</th>\n",
       "      <td>mp-7276</td>\n",
       "      <td>ScUS3</td>\n",
       "      <td>ABC3</td>\n",
       "      <td>Sc</td>\n",
       "      <td>U</td>\n",
       "      <td>S3</td>\n",
       "    </tr>\n",
       "  </tbody>\n",
       "</table>\n",
       "<p>4358 rows × 6 columns</p>\n",
       "</div>"
      ],
      "text/plain": [
       "           mp_id  formula   XYZ ele1 ele2 ele3\n",
       "0     mp-1178563   AgAsO3  ABC3   Ag   As   O3\n",
       "1     mp-1183052    AcBO3  ABC3   Ac    B   O3\n",
       "2     mp-1183053   AcGaO3  ABC3   Ac   Ga   O3\n",
       "3     mp-1183115   AcAlO3  ABC3   Ac   Al   O3\n",
       "4     mp-1183139   AcNiO3  ABC3   Ac   Ni   O3\n",
       "...          ...      ...   ...  ...  ...  ...\n",
       "4353  mp-1217533   TbUTe3  ABC3   Tb    U  Te3\n",
       "4354    mp-17324   ZrSnS3  ABC3   Zr   Sn   S3\n",
       "4355     mp-5193   SrZrS3  ABC3   Sr   Zr   S3\n",
       "4356   mp-541570  SrZrSe3  ABC3   Sr   Zr  Se3\n",
       "4357     mp-7276    ScUS3  ABC3   Sc    U   S3\n",
       "\n",
       "[4358 rows x 6 columns]"
      ]
     },
     "execution_count": 8,
     "metadata": {},
     "output_type": "execute_result"
    }
   ],
   "source": [
    "abc3"
   ]
  },
  {
   "cell_type": "code",
   "execution_count": 6,
   "metadata": {},
   "outputs": [],
   "source": [
    "abo3 = abc3[abc3['ele3']==\"O3\"]"
   ]
  },
  {
   "cell_type": "code",
   "execution_count": 13,
   "metadata": {},
   "outputs": [
    {
     "ename": "KeyError",
     "evalue": "\"['XYZ', 'ele3'] not in index\"",
     "output_type": "error",
     "traceback": [
      "\u001b[0;31m---------------------------------------------------------------------------\u001b[0m",
      "\u001b[0;31mKeyError\u001b[0m                                  Traceback (most recent call last)",
      "Cell \u001b[0;32mIn[13], line 1\u001b[0m\n\u001b[0;32m----> 1\u001b[0m abo3\u001b[38;5;241m=\u001b[39m\u001b[43mabo3\u001b[49m\u001b[43m[\u001b[49m\u001b[43m[\u001b[49m\u001b[38;5;124;43m\"\u001b[39;49m\u001b[38;5;124;43mmp_id\u001b[39;49m\u001b[38;5;124;43m\"\u001b[39;49m\u001b[43m,\u001b[49m\u001b[38;5;124;43m\"\u001b[39;49m\u001b[38;5;124;43mformula\u001b[39;49m\u001b[38;5;124;43m\"\u001b[39;49m\u001b[43m,\u001b[49m\u001b[38;5;124;43m\"\u001b[39;49m\u001b[38;5;124;43mXYZ\u001b[39;49m\u001b[38;5;124;43m\"\u001b[39;49m\u001b[43m,\u001b[49m\u001b[38;5;124;43m\"\u001b[39;49m\u001b[38;5;124;43mele3\u001b[39;49m\u001b[38;5;124;43m\"\u001b[39;49m\u001b[43m]\u001b[49m\u001b[43m]\u001b[49m\n\u001b[1;32m      2\u001b[0m abo3 \u001b[38;5;241m=\u001b[39m abo3\u001b[38;5;241m.\u001b[39mrename(columns\u001b[38;5;241m=\u001b[39m{\u001b[38;5;124m\"\u001b[39m\u001b[38;5;124mXYZ\u001b[39m\u001b[38;5;124m\"\u001b[39m:\u001b[38;5;124m\"\u001b[39m\u001b[38;5;124manonymous_formulas\u001b[39m\u001b[38;5;124m\"\u001b[39m,\u001b[38;5;124m\"\u001b[39m\u001b[38;5;124mele3\u001b[39m\u001b[38;5;124m\"\u001b[39m:\u001b[38;5;124m\"\u001b[39m\u001b[38;5;124mC3\u001b[39m\u001b[38;5;124m\"\u001b[39m})\n\u001b[1;32m      3\u001b[0m abo3\u001b[38;5;241m.\u001b[39mto_csv(\u001b[38;5;124m\"\u001b[39m\u001b[38;5;124m./ABO3_mp_ids.csv\u001b[39m\u001b[38;5;124m\"\u001b[39m,index\u001b[38;5;241m=\u001b[39m\u001b[38;5;28;01mFalse\u001b[39;00m)\n",
      "File \u001b[0;32m~/anaconda3/envs/bandgap/lib/python3.8/site-packages/pandas/core/frame.py:3511\u001b[0m, in \u001b[0;36mDataFrame.__getitem__\u001b[0;34m(self, key)\u001b[0m\n\u001b[1;32m   3509\u001b[0m     \u001b[39mif\u001b[39;00m is_iterator(key):\n\u001b[1;32m   3510\u001b[0m         key \u001b[39m=\u001b[39m \u001b[39mlist\u001b[39m(key)\n\u001b[0;32m-> 3511\u001b[0m     indexer \u001b[39m=\u001b[39m \u001b[39mself\u001b[39;49m\u001b[39m.\u001b[39;49mcolumns\u001b[39m.\u001b[39;49m_get_indexer_strict(key, \u001b[39m\"\u001b[39;49m\u001b[39mcolumns\u001b[39;49m\u001b[39m\"\u001b[39;49m)[\u001b[39m1\u001b[39m]\n\u001b[1;32m   3513\u001b[0m \u001b[39m# take() does not accept boolean indexers\u001b[39;00m\n\u001b[1;32m   3514\u001b[0m \u001b[39mif\u001b[39;00m \u001b[39mgetattr\u001b[39m(indexer, \u001b[39m\"\u001b[39m\u001b[39mdtype\u001b[39m\u001b[39m\"\u001b[39m, \u001b[39mNone\u001b[39;00m) \u001b[39m==\u001b[39m \u001b[39mbool\u001b[39m:\n",
      "File \u001b[0;32m~/anaconda3/envs/bandgap/lib/python3.8/site-packages/pandas/core/indexes/base.py:5782\u001b[0m, in \u001b[0;36mIndex._get_indexer_strict\u001b[0;34m(self, key, axis_name)\u001b[0m\n\u001b[1;32m   5779\u001b[0m \u001b[39melse\u001b[39;00m:\n\u001b[1;32m   5780\u001b[0m     keyarr, indexer, new_indexer \u001b[39m=\u001b[39m \u001b[39mself\u001b[39m\u001b[39m.\u001b[39m_reindex_non_unique(keyarr)\n\u001b[0;32m-> 5782\u001b[0m \u001b[39mself\u001b[39;49m\u001b[39m.\u001b[39;49m_raise_if_missing(keyarr, indexer, axis_name)\n\u001b[1;32m   5784\u001b[0m keyarr \u001b[39m=\u001b[39m \u001b[39mself\u001b[39m\u001b[39m.\u001b[39mtake(indexer)\n\u001b[1;32m   5785\u001b[0m \u001b[39mif\u001b[39;00m \u001b[39misinstance\u001b[39m(key, Index):\n\u001b[1;32m   5786\u001b[0m     \u001b[39m# GH 42790 - Preserve name from an Index\u001b[39;00m\n",
      "File \u001b[0;32m~/anaconda3/envs/bandgap/lib/python3.8/site-packages/pandas/core/indexes/base.py:5845\u001b[0m, in \u001b[0;36mIndex._raise_if_missing\u001b[0;34m(self, key, indexer, axis_name)\u001b[0m\n\u001b[1;32m   5842\u001b[0m     \u001b[39mraise\u001b[39;00m \u001b[39mKeyError\u001b[39;00m(\u001b[39mf\u001b[39m\u001b[39m\"\u001b[39m\u001b[39mNone of [\u001b[39m\u001b[39m{\u001b[39;00mkey\u001b[39m}\u001b[39;00m\u001b[39m] are in the [\u001b[39m\u001b[39m{\u001b[39;00maxis_name\u001b[39m}\u001b[39;00m\u001b[39m]\u001b[39m\u001b[39m\"\u001b[39m)\n\u001b[1;32m   5844\u001b[0m not_found \u001b[39m=\u001b[39m \u001b[39mlist\u001b[39m(ensure_index(key)[missing_mask\u001b[39m.\u001b[39mnonzero()[\u001b[39m0\u001b[39m]]\u001b[39m.\u001b[39munique())\n\u001b[0;32m-> 5845\u001b[0m \u001b[39mraise\u001b[39;00m \u001b[39mKeyError\u001b[39;00m(\u001b[39mf\u001b[39m\u001b[39m\"\u001b[39m\u001b[39m{\u001b[39;00mnot_found\u001b[39m}\u001b[39;00m\u001b[39m not in index\u001b[39m\u001b[39m\"\u001b[39m)\n",
      "\u001b[0;31mKeyError\u001b[0m: \"['XYZ', 'ele3'] not in index\""
     ]
    }
   ],
   "source": [
    "abo3=abo3[[\"mp_id\",\"formula\",\"XYZ\",\"ele3\"]]\n",
    "abo3 = abo3.rename(columns={\"XYZ\":\"anonymous_formulas\",\"ele3\":\"C3\"})\n"
   ]
  },
  {
   "cell_type": "code",
   "execution_count": null,
   "metadata": {},
   "outputs": [],
   "source": [
    "abo3.to_csv(\"./ABO3_mp_ids.csv\",index=False)"
   ]
  }
 ],
 "metadata": {
  "kernelspec": {
   "display_name": "Python 3.8.13 ('bandgap')",
   "language": "python",
   "name": "python3"
  },
  "language_info": {
   "codemirror_mode": {
    "name": "ipython",
    "version": 3
   },
   "file_extension": ".py",
   "mimetype": "text/x-python",
   "name": "python",
   "nbconvert_exporter": "python",
   "pygments_lexer": "ipython3",
   "version": "3.8.13"
  },
  "orig_nbformat": 4,
  "vscode": {
   "interpreter": {
    "hash": "fbde12be8656697d5db22ce8c013264d9fa7760ed056ab7e2324f1ba796285b2"
   }
  }
 },
 "nbformat": 4,
 "nbformat_minor": 2
}
