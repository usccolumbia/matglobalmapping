{
 "cells": [
  {
   "cell_type": "code",
   "execution_count": null,
   "metadata": {},
   "outputs": [],
   "source": [
    "import numpy as np\n",
    "import matplotlib.pyplot as plt\n",
    "from sklearn import manifold\n",
    "import pandas as pd\n",
    "import os\n",
    "from os import listdir\n",
    "from os.path import isfile, join\n",
    "import matplotlib.pyplot as plt\n",
    "from scipy.stats import gaussian_kde\n",
    "import matplotlib as mpl\n",
    "\n"
   ]
  },
  {
   "cell_type": "code",
   "execution_count": null,
   "metadata": {},
   "outputs": [],
   "source": [
    "tsnedir = \"../dataset/whole_mp_xy\"\n",
    "onlyfiles = [join(tsnedir, f) for f in listdir(tsnedir) if isfile(join(tsnedir, f))]"
   ]
  },
  {
   "cell_type": "code",
   "execution_count": null,
   "metadata": {},
   "outputs": [],
   "source": [
    "features={}\n",
    "for file in onlyfiles:\n",
    "    decriptor = file.split('/')[-1].split('_')[1]\n",
    "    print(decriptor)\n",
    "    feat_xy   = pd.read_csv(file,index_col=None)\n",
    "    features[decriptor]=feat_xy\n",
    "    \n",
    "\n",
    "\n"
   ]
  },
  {
   "cell_type": "code",
   "execution_count": 5,
   "metadata": {},
   "outputs": [],
   "source": [
    "#each graph can take up to 5 mins\n",
    "for decriptor in features:\n",
    "    feat_xy = features[decriptor]\n",
    "    fig = plt.figure(figsize=(20,20),dpi=100)\n",
    "    ax1 = fig.add_subplot(111)\n",
    "\n",
    "    x=feat_xy.loc[:]['x']\n",
    "    y=feat_xy.loc[:]['y']\n",
    "    plt.scatter(x,y,marker='o',color='white',s=20,zorder=1, edgecolor=\"grey\")\n",
    "    xy = np.vstack([x,y])\n",
    "    z = gaussian_kde(xy)(xy)\n",
    "    plt.scatter(x, y, c=z, s=1,zorder=3,cmap=mpl.colormaps['YlOrRd'])\n",
    "    #plt.title(decriptor)\n",
    "    ax1.get_xaxis().set_visible(False)\n",
    "    ax1.get_yaxis().set_visible(False)\n",
    "    plt.subplots_adjust(left=None, bottom=0.15, right=None, top=None,\n",
    "                    wspace=0.1, hspace=0.15)\n",
    "    plt.xticks()\n",
    "    plt.show()\n",
    "    break"
   ]
  }
 ],
 "metadata": {
  "kernelspec": {
   "display_name": "Python 3.8.16 ('test')",
   "language": "python",
   "name": "python3"
  },
  "language_info": {
   "codemirror_mode": {
    "name": "ipython",
    "version": 3
   },
   "file_extension": ".py",
   "mimetype": "text/x-python",
   "name": "python",
   "nbconvert_exporter": "python",
   "pygments_lexer": "ipython3",
   "version": "3.8.16"
  },
  "orig_nbformat": 4,
  "vscode": {
   "interpreter": {
    "hash": "6cea15190ed66eb9a4b86187ad41e65f485cae5574f2b3ef8a4ca057732d3cef"
   }
  }
 },
 "nbformat": 4,
 "nbformat_minor": 2
}
