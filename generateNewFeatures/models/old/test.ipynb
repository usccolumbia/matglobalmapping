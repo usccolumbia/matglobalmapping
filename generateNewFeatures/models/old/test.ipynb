{
 "cells": [
  {
   "cell_type": "code",
   "execution_count": 2,
   "metadata": {},
   "outputs": [
    {
     "name": "stdout",
     "output_type": "stream",
     "text": [
      "/home/connor/Desktop/motif_analysis/gen_all_feature\n",
      "/home/connor/Desktop/motif_analysis/gen_all_feature/models/deeperGATGNN\n",
      "/home/connor/Desktop/motif_analysis/gen_all_feature/models/deeperGATGNN\n",
      "/home/connor/Desktop/motif_analysis/gen_all_feature/models/deeperGATGNN\n"
     ]
    },
    {
     "name": "stderr",
     "output_type": "stream",
     "text": [
      "/home/connor/anaconda3/envs/bandgap/lib/python3.8/site-packages/tqdm/auto.py:22: TqdmWarning: IProgress not found. Please update jupyter and ipywidgets. See https://ipywidgets.readthedocs.io/en/stable/user_install.html\n",
      "  from .autonotebook import tqdm as notebook_tqdm\n"
     ]
    }
   ],
   "source": [
    "import models.GATGNN as gat"
   ]
  },
  {
   "cell_type": "code",
   "execution_count": 2,
   "metadata": {},
   "outputs": [],
   "source": [
    "gat.gen_target()"
   ]
  },
  {
   "cell_type": "code",
   "execution_count": 4,
   "metadata": {},
   "outputs": [
    {
     "name": "stderr",
     "output_type": "stream",
     "text": [
      "usage: ipykernel_launcher.py [-h] [--data_path DATA_PATH]\n",
      "                             [--run_mode RUN_MODE] [--model_path MODEL_PATH]\n",
      "                             [--format FORMAT]\n",
      "ipykernel_launcher.py: error: unrecognized arguments: --ip=127.0.0.1 --stdin=9106 --control=9104 --hb=9103 --Session.signature_scheme=\"hmac-sha256\" --Session.key=b\"5b316a3c-29ff-4cf6-a221-8f770dcd79dd\" --shell=9105 --transport=\"tcp\" --iopub=9107\n"
     ]
    },
    {
     "ename": "SystemExit",
     "evalue": "2",
     "output_type": "error",
     "traceback": [
      "An exception has occurred, use %tb to see the full traceback.\n",
      "\u001b[0;31mSystemExit\u001b[0m\u001b[0;31m:\u001b[0m 2\n"
     ]
    }
   ],
   "source": [
    "gat.gatgnn()"
   ]
  }
 ],
 "metadata": {
  "kernelspec": {
   "display_name": "Python 3.8.13 ('bandgap')",
   "language": "python",
   "name": "python3"
  },
  "language_info": {
   "codemirror_mode": {
    "name": "ipython",
    "version": 3
   },
   "file_extension": ".py",
   "mimetype": "text/x-python",
   "name": "python",
   "nbconvert_exporter": "python",
   "pygments_lexer": "ipython3",
   "version": "3.8.13"
  },
  "orig_nbformat": 4,
  "vscode": {
   "interpreter": {
    "hash": "fbde12be8656697d5db22ce8c013264d9fa7760ed056ab7e2324f1ba796285b2"
   }
  }
 },
 "nbformat": 4,
 "nbformat_minor": 2
}
